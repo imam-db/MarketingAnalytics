{
 "cells": [
  {
   "cell_type": "code",
   "execution_count": 10,
   "metadata": {},
   "outputs": [],
   "source": [
    "import pandas as pd\n",
    "import numpy as np"
   ]
  },
  {
   "cell_type": "markdown",
   "metadata": {},
   "source": [
    "### Cross-selling products\n",
    "\n",
    "The small grocery store has decided to cross-sell chewing gum with either coffee, cereal, or bread. To determine which of the three items is best to use, the store owner has performed an experiment. For one week, she sold chewing gum next to the register and recorded all transactions where it was purchased with either coffee, cereal, or bread. The transactions from that day are available as a list of lists named transactions. Each transaction is either ['coffee','gum'], ['cereal','gum'], or ['bread','gum']."
   ]
  },
  {
   "cell_type": "code",
   "execution_count": 1,
   "metadata": {},
   "outputs": [],
   "source": [
    "transactions = [['bread', 'gum'],\n",
    " ['bread', 'gum'],\n",
    " ['cereal', 'gum'],\n",
    " ['coffee', 'gum'],\n",
    " ['bread', 'gum'],\n",
    " ['coffee', 'gum'],\n",
    " ['coffee', 'gum'],\n",
    " ['coffee', 'gum'],\n",
    " ['cereal', 'gum'],\n",
    " ['coffee', 'gum'],\n",
    " ['coffee', 'gum'],\n",
    " ['cereal', 'gum'],\n",
    " ['coffee', 'gum'],\n",
    " ['cereal', 'gum'],\n",
    " ['coffee', 'gum'],\n",
    " ['coffee', 'gum'],\n",
    " ['cereal', 'gum'],\n",
    " ['coffee', 'gum'],\n",
    " ['bread', 'gum'],\n",
    " ['cereal', 'gum'],\n",
    " ['bread', 'gum'],\n",
    " ['bread', 'gum'],\n",
    " ['coffee', 'gum'],\n",
    " ['coffee', 'gum'],\n",
    " ['bread', 'gum'],\n",
    " ['bread', 'gum'],\n",
    " ['coffee', 'gum'],\n",
    " ['coffee', 'gum'],\n",
    " ['cereal', 'gum'],\n",
    " ['cereal', 'gum'],\n",
    " ['coffee', 'gum'],\n",
    " ['coffee', 'gum'],\n",
    " ['coffee', 'gum'],\n",
    " ['cereal', 'gum'],\n",
    " ['bread', 'gum'],\n",
    " ['coffee', 'gum'],\n",
    " ['bread', 'gum'],\n",
    " ['coffee', 'gum'],\n",
    " ['cereal', 'gum'],\n",
    " ['bread', 'gum'],\n",
    " ['cereal', 'gum'],\n",
    " ['cereal', 'gum'],\n",
    " ['coffee', 'gum'],\n",
    " ['coffee', 'gum'],\n",
    " ['cereal', 'gum'],\n",
    " ['coffee', 'gum'],\n",
    " ['cereal', 'gum'],\n",
    " ['coffee', 'gum'],\n",
    " ['coffee', 'gum'],\n",
    " ['bread', 'gum'],\n",
    " ['cereal', 'gum'],\n",
    " ['bread', 'gum'],\n",
    " ['coffee', 'gum'],\n",
    " ['cereal', 'gum'],\n",
    " ['coffee', 'gum'],\n",
    " ['cereal', 'gum'],\n",
    " ['cereal', 'gum'],\n",
    " ['bread', 'gum'],\n",
    " ['bread', 'gum'],\n",
    " ['coffee', 'gum'],\n",
    " ['coffee', 'gum'],\n",
    " ['coffee', 'gum'],\n",
    " ['bread', 'gum'],\n",
    " ['cereal', 'gum'],\n",
    " ['cereal', 'gum'],\n",
    " ['coffee', 'gum'],\n",
    " ['bread', 'gum'],\n",
    " ['coffee', 'gum'],\n",
    " ['coffee', 'gum'],\n",
    " ['cereal', 'gum'],\n",
    " ['cereal', 'gum'],\n",
    " ['coffee', 'gum'],\n",
    " ['bread', 'gum'],\n",
    " ['coffee', 'gum'],\n",
    " ['cereal', 'gum'],\n",
    " ['coffee', 'gum'],\n",
    " ['cereal', 'gum'],\n",
    " ['cereal', 'gum'],\n",
    " ['coffee', 'gum'],\n",
    " ['coffee', 'gum'],\n",
    " ['bread', 'gum'],\n",
    " ['coffee', 'gum'],\n",
    " ['bread', 'gum'],\n",
    " ['coffee', 'gum'],\n",
    " ['coffee', 'gum']]"
   ]
  },
  {
   "cell_type": "code",
   "execution_count": 2,
   "metadata": {},
   "outputs": [
    {
     "name": "stdout",
     "output_type": "stream",
     "text": [
      "coffee: 40\n",
      "cereal: 25\n",
      "bread: 20\n"
     ]
    }
   ],
   "source": [
    "# Count the number of transactions with coffee and gum\n",
    "coffee = transactions.count(['coffee', 'gum'])\n",
    "\n",
    "# Count the number of transactions with cereal and gum\n",
    "cereal = transactions.count(['cereal', 'gum'])\n",
    "\n",
    "# Count the number of transactions with bread and gum\n",
    "bread = transactions.count(['bread', 'gum'])\n",
    "\n",
    "# Print the counts for each transaction.\n",
    "print('coffee:', coffee)\n",
    "print('cereal:', cereal)\n",
    "print('bread:', bread)"
   ]
  },
  {
   "cell_type": "markdown",
   "metadata": {},
   "source": [
    "### Preparing data for market basket analysis\n",
    "\n",
    "Throughout this course, you will typically encounter data in one of two formats: a pandas DataFrame or a list of lists. DataFrame objects will be constructed by importing a csv file using pandas. They will consist of a single column of data, where each element contains a string of items in a transaction, separated by a comma, as in the table below.\n",
    "\n",
    "In this exercise, you will practice loading the data from a csv file and will prepare it for use as a list of lists. Note that the path to the grocery store dataset has been defined and is available to you as groceries_path."
   ]
  },
  {
   "cell_type": "code",
   "execution_count": 4,
   "metadata": {},
   "outputs": [
    {
     "name": "stdout",
     "output_type": "stream",
     "text": [
      "[['milk', 'bread', 'biscuit'], ['bread', 'milk', 'biscuit', 'cereal'], ['bread', 'tea'], ['jam', 'bread', 'milk'], ['tea', 'biscuit'], ['bread', 'tea'], ['tea', 'cereal'], ['bread', 'tea', 'biscuit'], ['jam', 'bread', 'tea'], ['bread', 'milk'], ['coffee', 'orange', 'biscuit', 'cereal'], ['coffee', 'orange', 'biscuit', 'cereal'], ['coffee', 'sugar'], ['bread', 'coffee', 'orange'], ['bread', 'sugar', 'biscuit'], ['coffee', 'sugar', 'cereal'], ['bread', 'sugar', 'biscuit'], ['bread', 'coffee', 'sugar'], ['bread', 'coffee', 'sugar'], ['tea', 'milk', 'coffee', 'cereal']]\n"
     ]
    }
   ],
   "source": [
    "# Load transactions from pandas\n",
    "groceries = pd.read_csv(\"../Dataset/small_grocery_store.csv\")\n",
    "\n",
    "# Split transaction strings into lists\n",
    "transactions = groceries['Transaction'].apply(lambda t: t.split(','))\n",
    "\n",
    "# Convert DataFrame column into list of strings\n",
    "transactions = list(transactions)\n",
    "\n",
    "# Print the list of transactions\n",
    "print(transactions)"
   ]
  },
  {
   "cell_type": "markdown",
   "metadata": {},
   "source": [
    "### Generating association rules\n",
    "\n",
    "As you saw, the function permutations from the module itertools can be used to quickly generate the set of all one-antecedent, one-consequent rules. You do not, of course, know which of these rules are useful. You simply know that each is a valid way to combine two items.\n",
    "\n",
    "Let's practice generating and counting the set of all rules for a subset of the grocery dataset: coffee, tea, milk, and sugar."
   ]
  },
  {
   "cell_type": "code",
   "execution_count": 7,
   "metadata": {},
   "outputs": [
    {
     "name": "stdout",
     "output_type": "stream",
     "text": [
      "[('orange', 'biscuit'), ('orange', 'cereal'), ('orange', 'milk'), ('orange', 'jam'), ('orange', 'sugar'), ('orange', 'coffee'), ('orange', 'bread'), ('orange', 'tea'), ('biscuit', 'orange'), ('biscuit', 'cereal'), ('biscuit', 'milk'), ('biscuit', 'jam'), ('biscuit', 'sugar'), ('biscuit', 'coffee'), ('biscuit', 'bread'), ('biscuit', 'tea'), ('cereal', 'orange'), ('cereal', 'biscuit'), ('cereal', 'milk'), ('cereal', 'jam'), ('cereal', 'sugar'), ('cereal', 'coffee'), ('cereal', 'bread'), ('cereal', 'tea'), ('milk', 'orange'), ('milk', 'biscuit'), ('milk', 'cereal'), ('milk', 'jam'), ('milk', 'sugar'), ('milk', 'coffee'), ('milk', 'bread'), ('milk', 'tea'), ('jam', 'orange'), ('jam', 'biscuit'), ('jam', 'cereal'), ('jam', 'milk'), ('jam', 'sugar'), ('jam', 'coffee'), ('jam', 'bread'), ('jam', 'tea'), ('sugar', 'orange'), ('sugar', 'biscuit'), ('sugar', 'cereal'), ('sugar', 'milk'), ('sugar', 'jam'), ('sugar', 'coffee'), ('sugar', 'bread'), ('sugar', 'tea'), ('coffee', 'orange'), ('coffee', 'biscuit'), ('coffee', 'cereal'), ('coffee', 'milk'), ('coffee', 'jam'), ('coffee', 'sugar'), ('coffee', 'bread'), ('coffee', 'tea'), ('bread', 'orange'), ('bread', 'biscuit'), ('bread', 'cereal'), ('bread', 'milk'), ('bread', 'jam'), ('bread', 'sugar'), ('bread', 'coffee'), ('bread', 'tea'), ('tea', 'orange'), ('tea', 'biscuit'), ('tea', 'cereal'), ('tea', 'milk'), ('tea', 'jam'), ('tea', 'sugar'), ('tea', 'coffee'), ('tea', 'bread')]\n",
      "72\n"
     ]
    }
   ],
   "source": [
    "# Import permutations from the itertools module\n",
    "from itertools import permutations\n",
    "\n",
    "# Define the set of groceries\n",
    "flattened = [i for t in transactions for i in t]\n",
    "groceries = list(set(flattened))\n",
    "\n",
    "# Generate all possible rules from groceries list\n",
    "rules = list(permutations(groceries, 2))\n",
    "\n",
    "# Print the set of rules\n",
    "print(rules)\n",
    "\n",
    "# Print the number of rules\n",
    "print(len(rules))"
   ]
  },
  {
   "cell_type": "markdown",
   "metadata": {},
   "source": [
    "### One-hot encoding transaction data\n",
    "\n",
    "Throughout the course, we will use a common pipeline for preprocessing data for use in market basket analysis. The first step is to import a pandas DataFrame and select the column that contains transactions. Each transaction in the column will be a string that consists of a number of items, each separated by a comma. The next step is to use a lambda function to split each transaction string into a list, thereby transforming the column into a list of lists.\n",
    "\n",
    "In this exercise, you'll start with the list of lists from the grocery dataset, which is available to you as transactions. You will then transform transactions into a one-hot encoded DataFrame, where each column consists of TRUE and FALSE values that indicate whether an item was included in a transaction."
   ]
  },
  {
   "cell_type": "code",
   "execution_count": 8,
   "metadata": {},
   "outputs": [
    {
     "name": "stdout",
     "output_type": "stream",
     "text": [
      "    biscuit  bread  cereal  coffee    jam   milk  orange  sugar    tea\n",
      "0      True   True   False   False  False   True   False  False  False\n",
      "1      True   True    True   False  False   True   False  False  False\n",
      "2     False   True   False   False  False  False   False  False   True\n",
      "3     False   True   False   False   True   True   False  False  False\n",
      "4      True  False   False   False  False  False   False  False   True\n",
      "5     False   True   False   False  False  False   False  False   True\n",
      "6     False  False    True   False  False  False   False  False   True\n",
      "7      True   True   False   False  False  False   False  False   True\n",
      "8     False   True   False   False   True  False   False  False   True\n",
      "9     False   True   False   False  False   True   False  False  False\n",
      "10     True  False    True    True  False  False    True  False  False\n",
      "11     True  False    True    True  False  False    True  False  False\n",
      "12    False  False   False    True  False  False   False   True  False\n",
      "13    False   True   False    True  False  False    True  False  False\n",
      "14     True   True   False   False  False  False   False   True  False\n",
      "15    False  False    True    True  False  False   False   True  False\n",
      "16     True   True   False   False  False  False   False   True  False\n",
      "17    False   True   False    True  False  False   False   True  False\n",
      "18    False   True   False    True  False  False   False   True  False\n",
      "19    False  False    True    True  False   True   False  False   True\n"
     ]
    }
   ],
   "source": [
    "# Import the transaction encoder function from mlxtend\n",
    "from mlxtend.preprocessing import TransactionEncoder\n",
    "import pandas as pd\n",
    "\n",
    "# Instantiate transaction encoder and identify unique items in transactions\n",
    "encoder = TransactionEncoder().fit(transactions)\n",
    "\n",
    "# One-hot encode transactions\n",
    "onehot = encoder.transform(transactions)\n",
    "\n",
    "# Convert one-hot encoded data to DataFrame\n",
    "onehot = pd.DataFrame(onehot, columns = encoder.columns_)\n",
    "\n",
    "# Print the one-hot encoded transaction dataset\n",
    "print(onehot)"
   ]
  },
  {
   "cell_type": "markdown",
   "metadata": {},
   "source": [
    "### Computing the support metric\n",
    "\n",
    "In the previous exercise, you one-hot encoded a small grocery store's transactions as the DataFrame onehot. In this exercise, you'll make use of that DataFrame and the support metric to help the store's owner. First, she has asked you to identify frequently purchased items, which you'll do by computing support at the item-level. And second, she asked you to check whether the rule {jam}\n",
    "{bread} has a support of over 0.05. Note that onehot has been defined and is available. Additionally, pandas has been imported under the alias pd and numpy has been imported under the alias np."
   ]
  },
  {
   "cell_type": "code",
   "execution_count": 9,
   "metadata": {},
   "outputs": [
    {
     "name": "stdout",
     "output_type": "stream",
     "text": [
      "biscuit    0.40\n",
      "bread      0.65\n",
      "cereal     0.30\n",
      "coffee     0.40\n",
      "jam        0.10\n",
      "milk       0.25\n",
      "orange     0.15\n",
      "sugar      0.30\n",
      "tea        0.35\n",
      "dtype: float64\n"
     ]
    }
   ],
   "source": [
    "# Compute the support\n",
    "support = onehot.mean()\n",
    "\n",
    "# Print the support\n",
    "print(support)"
   ]
  },
  {
   "cell_type": "code",
   "execution_count": 11,
   "metadata": {},
   "outputs": [
    {
     "name": "stdout",
     "output_type": "stream",
     "text": [
      "biscuit      0.40\n",
      "bread        0.65\n",
      "cereal       0.30\n",
      "coffee       0.40\n",
      "jam          0.10\n",
      "milk         0.25\n",
      "orange       0.15\n",
      "sugar        0.30\n",
      "tea          0.35\n",
      "jam+bread    0.10\n",
      "dtype: float64\n"
     ]
    }
   ],
   "source": [
    "# Add a jam+bread column to the DataFrame onehot\n",
    "onehot['jam+bread'] = np.logical_and(onehot['jam'], onehot['bread'])\n",
    "\n",
    "# Compute the support\n",
    "support = onehot.mean()\n",
    "\n",
    "# Print the support values\n",
    "print(support)"
   ]
  }
 ],
 "metadata": {
  "interpreter": {
   "hash": "7bf693a0499087cfe65ca5e8feb9648886301d131e383ef4707d70ab1472a5c5"
  },
  "kernelspec": {
   "display_name": "Python 3.8.8 ('base')",
   "language": "python",
   "name": "python3"
  },
  "language_info": {
   "codemirror_mode": {
    "name": "ipython",
    "version": 3
   },
   "file_extension": ".py",
   "mimetype": "text/x-python",
   "name": "python",
   "nbconvert_exporter": "python",
   "pygments_lexer": "ipython3",
   "version": "3.8.8"
  },
  "orig_nbformat": 4
 },
 "nbformat": 4,
 "nbformat_minor": 2
}
